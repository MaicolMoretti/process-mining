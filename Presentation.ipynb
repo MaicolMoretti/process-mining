{
 "cells": [
  {
   "cell_type": "markdown",
   "metadata": {
    "slideshow": {
     "slide_type": "slide"
    }
   },
   "source": [
    "### PROCESS MINING PROJECT\n",
    "Hmain Nizar - Moretti Maicol - January 2019"
   ]
  },
  {
   "cell_type": "markdown",
   "metadata": {
    "slideshow": {
     "slide_type": "slide"
    }
   },
   "source": [
    "### The context \n",
    "Germany distributes 6.2 billion euros of farming subsidies it receives every yearfrom the EU, disbursing more towards small and medium-sized enterprises and Eco-farming practices.  There is a significant amount of money that is handled by these processes. The data we have deals with administrative and bureaucratic processes.  Our focus will primarily be on the Payment application.  This process handles the payments and manages the amount of the subsidies that would beeventually given to every individual in their respective cases.  We are interested to find out how and why some payment processes may perform not as well asothers"
   ]
  },
  {
   "cell_type": "markdown",
   "metadata": {
    "slideshow": {
     "slide_type": "slide"
    }
   },
   "source": [
    "![title](./images/overview.png)"
   ]
  },
  {
   "cell_type": "markdown",
   "metadata": {
    "slideshow": {
     "slide_type": "slide"
    }
   },
   "source": [
    "### The Data"
   ]
  },
  {
   "cell_type": "code",
   "execution_count": 2,
   "metadata": {},
   "outputs": [
    {
     "data": {
      "text/html": [
       "<div>\n",
       "<style scoped>\n",
       "    .dataframe tbody tr th:only-of-type {\n",
       "        vertical-align: middle;\n",
       "    }\n",
       "\n",
       "    .dataframe tbody tr th {\n",
       "        vertical-align: top;\n",
       "    }\n",
       "\n",
       "    .dataframe thead th {\n",
       "        text-align: right;\n",
       "    }\n",
       "</style>\n",
       "<table border=\"1\" class=\"dataframe\">\n",
       "  <thead>\n",
       "    <tr style=\"text-align: right;\">\n",
       "      <th></th>\n",
       "      <th>Case ID</th>\n",
       "      <th>Activity</th>\n",
       "      <th>Resource</th>\n",
       "      <th>Complete Timestamp</th>\n",
       "      <th>Variant</th>\n",
       "      <th>Variant index</th>\n",
       "      <th>(case) amount_applied0</th>\n",
       "      <th>(case) amount_applied1</th>\n",
       "      <th>(case) amount_applied2</th>\n",
       "      <th>(case) amount_applied3</th>\n",
       "      <th>...</th>\n",
       "      <th>(case) young farmer</th>\n",
       "      <th>activity</th>\n",
       "      <th>concept:name</th>\n",
       "      <th>docid</th>\n",
       "      <th>doctype</th>\n",
       "      <th>eventid</th>\n",
       "      <th>lifecycle:transition</th>\n",
       "      <th>note</th>\n",
       "      <th>subprocess</th>\n",
       "      <th>success</th>\n",
       "    </tr>\n",
       "  </thead>\n",
       "  <tbody>\n",
       "    <tr>\n",
       "      <th>0</th>\n",
       "      <td>-18008611495569447</td>\n",
       "      <td>Payment application-Application-mail income</td>\n",
       "      <td>0;n/a</td>\n",
       "      <td>2015/05/08 00:00:00.000</td>\n",
       "      <td>Variant 8</td>\n",
       "      <td>8</td>\n",
       "      <td>960.35</td>\n",
       "      <td>NaN</td>\n",
       "      <td>NaN</td>\n",
       "      <td>NaN</td>\n",
       "      <td>...</td>\n",
       "      <td>False</td>\n",
       "      <td>mail income</td>\n",
       "      <td>mail income</td>\n",
       "      <td>-18008611495569447</td>\n",
       "      <td>Payment application</td>\n",
       "      <td>NaN</td>\n",
       "      <td>complete</td>\n",
       "      <td>none</td>\n",
       "      <td>Application</td>\n",
       "      <td>True</td>\n",
       "    </tr>\n",
       "    <tr>\n",
       "      <th>1</th>\n",
       "      <td>-18008611495569447</td>\n",
       "      <td>Payment application-Application-mail valid</td>\n",
       "      <td>0;n/a</td>\n",
       "      <td>2015/05/08 00:00:00.000</td>\n",
       "      <td>Variant 8</td>\n",
       "      <td>8</td>\n",
       "      <td>960.35</td>\n",
       "      <td>NaN</td>\n",
       "      <td>NaN</td>\n",
       "      <td>NaN</td>\n",
       "      <td>...</td>\n",
       "      <td>False</td>\n",
       "      <td>mail valid</td>\n",
       "      <td>mail valid</td>\n",
       "      <td>-18008611495569447</td>\n",
       "      <td>Payment application</td>\n",
       "      <td>NaN</td>\n",
       "      <td>complete</td>\n",
       "      <td>none</td>\n",
       "      <td>Application</td>\n",
       "      <td>True</td>\n",
       "    </tr>\n",
       "    <tr>\n",
       "      <th>2</th>\n",
       "      <td>-18008611495569447</td>\n",
       "      <td>Payment application-Application-initialize</td>\n",
       "      <td>Document processing automaton</td>\n",
       "      <td>2015/11/06 11:21:27.376</td>\n",
       "      <td>Variant 8</td>\n",
       "      <td>8</td>\n",
       "      <td>960.35</td>\n",
       "      <td>NaN</td>\n",
       "      <td>NaN</td>\n",
       "      <td>NaN</td>\n",
       "      <td>...</td>\n",
       "      <td>False</td>\n",
       "      <td>initialize</td>\n",
       "      <td>initialize</td>\n",
       "      <td>-18008611495569447</td>\n",
       "      <td>Payment application</td>\n",
       "      <td>-1.800861e+16</td>\n",
       "      <td>complete</td>\n",
       "      <td>none</td>\n",
       "      <td>Application</td>\n",
       "      <td>True</td>\n",
       "    </tr>\n",
       "    <tr>\n",
       "      <th>3</th>\n",
       "      <td>-18008611495569447</td>\n",
       "      <td>Payment application-Application-begin editing</td>\n",
       "      <td>727350</td>\n",
       "      <td>2015/11/10 17:17:50.045</td>\n",
       "      <td>Variant 8</td>\n",
       "      <td>8</td>\n",
       "      <td>960.35</td>\n",
       "      <td>NaN</td>\n",
       "      <td>NaN</td>\n",
       "      <td>NaN</td>\n",
       "      <td>...</td>\n",
       "      <td>False</td>\n",
       "      <td>begin editing</td>\n",
       "      <td>begin editing</td>\n",
       "      <td>-18008611495569447</td>\n",
       "      <td>Payment application</td>\n",
       "      <td>-1.080806e+17</td>\n",
       "      <td>complete</td>\n",
       "      <td>automatic</td>\n",
       "      <td>Application</td>\n",
       "      <td>True</td>\n",
       "    </tr>\n",
       "    <tr>\n",
       "      <th>4</th>\n",
       "      <td>-18008611495569447</td>\n",
       "      <td>Payment application-Application-calculate</td>\n",
       "      <td>727350</td>\n",
       "      <td>2015/11/10 17:17:57.085</td>\n",
       "      <td>Variant 8</td>\n",
       "      <td>8</td>\n",
       "      <td>960.35</td>\n",
       "      <td>NaN</td>\n",
       "      <td>NaN</td>\n",
       "      <td>NaN</td>\n",
       "      <td>...</td>\n",
       "      <td>False</td>\n",
       "      <td>calculate</td>\n",
       "      <td>calculate</td>\n",
       "      <td>-18008611495569447</td>\n",
       "      <td>Payment application</td>\n",
       "      <td>-1.080806e+17</td>\n",
       "      <td>complete</td>\n",
       "      <td>automatic</td>\n",
       "      <td>Application</td>\n",
       "      <td>True</td>\n",
       "    </tr>\n",
       "  </tbody>\n",
       "</table>\n",
       "<p>5 rows × 75 columns</p>\n",
       "</div>"
      ],
      "text/plain": [
       "             Case ID                                       Activity  \\\n",
       "0 -18008611495569447    Payment application-Application-mail income   \n",
       "1 -18008611495569447     Payment application-Application-mail valid   \n",
       "2 -18008611495569447     Payment application-Application-initialize   \n",
       "3 -18008611495569447  Payment application-Application-begin editing   \n",
       "4 -18008611495569447      Payment application-Application-calculate   \n",
       "\n",
       "                        Resource       Complete Timestamp    Variant  \\\n",
       "0                          0;n/a  2015/05/08 00:00:00.000  Variant 8   \n",
       "1                          0;n/a  2015/05/08 00:00:00.000  Variant 8   \n",
       "2  Document processing automaton  2015/11/06 11:21:27.376  Variant 8   \n",
       "3                         727350  2015/11/10 17:17:50.045  Variant 8   \n",
       "4                         727350  2015/11/10 17:17:57.085  Variant 8   \n",
       "\n",
       "   Variant index  (case) amount_applied0  (case) amount_applied1  \\\n",
       "0              8                  960.35                     NaN   \n",
       "1              8                  960.35                     NaN   \n",
       "2              8                  960.35                     NaN   \n",
       "3              8                  960.35                     NaN   \n",
       "4              8                  960.35                     NaN   \n",
       "\n",
       "   (case) amount_applied2  (case) amount_applied3   ...     \\\n",
       "0                     NaN                     NaN   ...      \n",
       "1                     NaN                     NaN   ...      \n",
       "2                     NaN                     NaN   ...      \n",
       "3                     NaN                     NaN   ...      \n",
       "4                     NaN                     NaN   ...      \n",
       "\n",
       "  (case) young farmer       activity   concept:name              docid  \\\n",
       "0               False    mail income    mail income -18008611495569447   \n",
       "1               False     mail valid     mail valid -18008611495569447   \n",
       "2               False     initialize     initialize -18008611495569447   \n",
       "3               False  begin editing  begin editing -18008611495569447   \n",
       "4               False      calculate      calculate -18008611495569447   \n",
       "\n",
       "               doctype       eventid  lifecycle:transition       note  \\\n",
       "0  Payment application           NaN              complete       none   \n",
       "1  Payment application           NaN              complete       none   \n",
       "2  Payment application -1.800861e+16              complete       none   \n",
       "3  Payment application -1.080806e+17              complete  automatic   \n",
       "4  Payment application -1.080806e+17              complete  automatic   \n",
       "\n",
       "    subprocess  success  \n",
       "0  Application     True  \n",
       "1  Application     True  \n",
       "2  Application     True  \n",
       "3  Application     True  \n",
       "4  Application     True  \n",
       "\n",
       "[5 rows x 75 columns]"
      ]
     },
     "execution_count": 2,
     "metadata": {},
     "output_type": "execute_result"
    }
   ],
   "source": [
    "import pandas as pd\n",
    "\n",
    "def load_data():\n",
    "    csv_path = './payment_data.csv'\n",
    "    return pd.read_csv(csv_path)\n",
    "\n",
    "data = load_data()\n",
    "data.head()"
   ]
  },
  {
   "cell_type": "markdown",
   "metadata": {
    "slideshow": {
     "slide_type": "slide"
    }
   },
   "source": [
    "### Undesired Outcome Filtering"
   ]
  },
  {
   "cell_type": "markdown",
   "metadata": {},
   "source": [
    "Now that we isolated all activites that handle the payment process, we can move to next step which would be the filtering of the data. We must isolate cases that are defined as timely. A payment is condired as timely if:\n",
    "    - we filtered the data, and considered only the cases that had begin payment events.\n",
    "    - if begin payment is followed by abort anywhere in the span of the case, it is not timely\n",
    "    - we need Payment application-Application-initializes year is the same as the first begin payment activity\n"
   ]
  },
  {
   "cell_type": "code",
   "execution_count": 2,
   "metadata": {},
   "outputs": [
    {
     "name": "stdout",
     "output_type": "stream",
     "text": [
      "(43809, 75)\n"
     ]
    }
   ],
   "source": [
    "# our filter, since this is unique, we can extract the case value ( how many cases there are )\n",
    "is_payment_application =  data['Activity']=='Payment application-Application-initialize'\n",
    "\n",
    "\n",
    "data_payment = data[is_payment_application]\n",
    "print(data_payment.shape)\n"
   ]
  },
  {
   "cell_type": "code",
   "execution_count": 3,
   "metadata": {
    "slideshow": {
     "slide_type": "slide"
    }
   },
   "outputs": [
    {
     "data": {
      "text/plain": [
       "(43754,)"
      ]
     },
     "execution_count": 3,
     "metadata": {},
     "output_type": "execute_result"
    }
   ],
   "source": [
    "data_payment['Complete Timestamp'].value_counts().shape"
   ]
  },
  {
   "cell_type": "markdown",
   "metadata": {},
   "source": [
    "As we can see here, some values for the Timestamp are missing. 43809 - 43754.\n",
    "Exactly 55 Timestamps are missing."
   ]
  },
  {
   "cell_type": "markdown",
   "metadata": {
    "slideshow": {
     "slide_type": "slide"
    }
   },
   "source": [
    "### Undesired outcome 1: \n",
    "The payment is late. A payment can be considered timely, if there has been a “begin payment” activity by the end of the year that was not eventually followed by “abort payment”."
   ]
  },
  {
   "cell_type": "code",
   "execution_count": null,
   "metadata": {
    "slideshow": {
     "slide_type": "slide"
    }
   },
   "outputs": [],
   "source": [
    "# This is only a snippet, do not try to execute this cell\n",
    "notTimely = []\n",
    "\n",
    "for case in cases:\n",
    "\n",
    "    for x in range(len(case)):\n",
    "        try:\n",
    "            if(case[x][1] == 'Payment application-Application-initialize'):\n",
    "                # parse the time to substract them and see if there is a year between initialize and first begin payment\n",
    "                d1 = datetime.strptime(case[x][2], \"%Y/%m/%d %H:%M:%S.%f\")\n",
    "                # check the second event if there is not a year between them\n",
    "                d2 = datetime.strptime(case[x+1][2], \"%Y/%m/%d %H:%M:%S.%f\")\n",
    "                d3 = d2 - d1\n",
    "                # check the exact the year\n",
    "                if(d3.days > 365):\n",
    "                    if case[x][0] not in notTimely:\n",
    "                        notTimely.append(case[x][0])\n",
    "                \n",
    "\n",
    "\n",
    "            if(case[x][7] == 'begin payment' and case[x+1][7] == 'abort payment'):\n",
    "                if case[x][0] not in notTimely:\n",
    "                    notTimely.append(case[x][0])\n",
    "        except IndexError:\n",
    "            pass"
   ]
  },
  {
   "cell_type": "code",
   "execution_count": 6,
   "metadata": {
    "scrolled": true,
    "slideshow": {
     "slide_type": "slide"
    }
   },
   "outputs": [
    {
     "data": {
      "text/html": [
       "<div>\n",
       "<style scoped>\n",
       "    .dataframe tbody tr th:only-of-type {\n",
       "        vertical-align: middle;\n",
       "    }\n",
       "\n",
       "    .dataframe tbody tr th {\n",
       "        vertical-align: top;\n",
       "    }\n",
       "\n",
       "    .dataframe thead th {\n",
       "        text-align: right;\n",
       "    }\n",
       "</style>\n",
       "<table border=\"1\" class=\"dataframe\">\n",
       "  <thead>\n",
       "    <tr style=\"text-align: right;\">\n",
       "      <th></th>\n",
       "      <th>Case ID</th>\n",
       "      <th>Activity</th>\n",
       "      <th>Complete Timestamp</th>\n",
       "      <th>Variant</th>\n",
       "      <th>Variant index</th>\n",
       "      <th>case(selected_risk)</th>\n",
       "      <th>case (small_farmer)</th>\n",
       "      <th>case (year)</th>\n",
       "      <th>case (young farmer)</th>\n",
       "      <th>concept:name</th>\n",
       "    </tr>\n",
       "  </thead>\n",
       "  <tbody>\n",
       "    <tr>\n",
       "      <th>0</th>\n",
       "      <td>8b99873a6136cfa6</td>\n",
       "      <td>Payment application-Application-initialize</td>\n",
       "      <td>2015/11/06 11:21:27.376</td>\n",
       "      <td>Variant 2</td>\n",
       "      <td>2</td>\n",
       "      <td>False</td>\n",
       "      <td>True</td>\n",
       "      <td>2015</td>\n",
       "      <td>False</td>\n",
       "      <td>initialize</td>\n",
       "    </tr>\n",
       "    <tr>\n",
       "      <th>1</th>\n",
       "      <td>8b99873a6136cfa6</td>\n",
       "      <td>Payment application-Application-begin payment</td>\n",
       "      <td>2015/12/16 11:55:49.972</td>\n",
       "      <td>Variant 2</td>\n",
       "      <td>2</td>\n",
       "      <td>False</td>\n",
       "      <td>True</td>\n",
       "      <td>2015</td>\n",
       "      <td>False</td>\n",
       "      <td>begin payment</td>\n",
       "    </tr>\n",
       "    <tr>\n",
       "      <th>2</th>\n",
       "      <td>8b99873a6136cfa6</td>\n",
       "      <td>Payment application-Application-abort payment</td>\n",
       "      <td>2015/12/16 16:43:22.109</td>\n",
       "      <td>Variant 2</td>\n",
       "      <td>2</td>\n",
       "      <td>False</td>\n",
       "      <td>True</td>\n",
       "      <td>2015</td>\n",
       "      <td>False</td>\n",
       "      <td>abort payment</td>\n",
       "    </tr>\n",
       "    <tr>\n",
       "      <th>3</th>\n",
       "      <td>8b99873a6136cfa6</td>\n",
       "      <td>Payment application-Application-begin payment</td>\n",
       "      <td>2015/12/17 21:17:23.983</td>\n",
       "      <td>Variant 2</td>\n",
       "      <td>2</td>\n",
       "      <td>False</td>\n",
       "      <td>True</td>\n",
       "      <td>2015</td>\n",
       "      <td>False</td>\n",
       "      <td>begin payment</td>\n",
       "    </tr>\n",
       "    <tr>\n",
       "      <th>4</th>\n",
       "      <td>8b99873a6136cfa6</td>\n",
       "      <td>Payment application-Application-abort payment</td>\n",
       "      <td>2015/12/18 13:23:26.222</td>\n",
       "      <td>Variant 2</td>\n",
       "      <td>2</td>\n",
       "      <td>False</td>\n",
       "      <td>True</td>\n",
       "      <td>2015</td>\n",
       "      <td>False</td>\n",
       "      <td>abort payment</td>\n",
       "    </tr>\n",
       "  </tbody>\n",
       "</table>\n",
       "</div>"
      ],
      "text/plain": [
       "            Case ID                                       Activity  \\\n",
       "0  8b99873a6136cfa6     Payment application-Application-initialize   \n",
       "1  8b99873a6136cfa6  Payment application-Application-begin payment   \n",
       "2  8b99873a6136cfa6  Payment application-Application-abort payment   \n",
       "3  8b99873a6136cfa6  Payment application-Application-begin payment   \n",
       "4  8b99873a6136cfa6  Payment application-Application-abort payment   \n",
       "\n",
       "        Complete Timestamp    Variant  Variant index  case(selected_risk)  \\\n",
       "0  2015/11/06 11:21:27.376  Variant 2              2                False   \n",
       "1  2015/12/16 11:55:49.972  Variant 2              2                False   \n",
       "2  2015/12/16 16:43:22.109  Variant 2              2                False   \n",
       "3  2015/12/17 21:17:23.983  Variant 2              2                False   \n",
       "4  2015/12/18 13:23:26.222  Variant 2              2                False   \n",
       "\n",
       "   case (small_farmer)  case (year)  case (young farmer)   concept:name  \n",
       "0                 True         2015                False     initialize  \n",
       "1                 True         2015                False  begin payment  \n",
       "2                 True         2015                False  abort payment  \n",
       "3                 True         2015                False  begin payment  \n",
       "4                 True         2015                False  abort payment  "
      ]
     },
     "execution_count": 6,
     "metadata": {},
     "output_type": "execute_result"
    }
   ],
   "source": [
    "\n",
    "def load_not_timely():\n",
    "    csv_path = './undesired1/late cases (not timely).csv'\n",
    "    return pd.read_csv(csv_path)\n",
    "\n",
    "data = load_not_timely()\n",
    "data.head()\n",
    "    "
   ]
  },
  {
   "cell_type": "code",
   "execution_count": 186,
   "metadata": {
    "slideshow": {
     "slide_type": "skip"
    }
   },
   "outputs": [
    {
     "name": "stdout",
     "output_type": "stream",
     "text": [
      "(26625, 75)\n"
     ]
    }
   ],
   "source": [
    "data = load_data()\n",
    "\n",
    "# our filter, since this is unique, we can extract the case value ( how many cases there are )\n",
    "is_late =  data['Activity']=='Payment application-Application-abort payment'\n",
    "\n",
    "data_payment = data[is_late]\n",
    "\n",
    "# we drop the duplicates based on their IDS\n",
    "late_payment = data_payment.drop_duplicates(subset='Case ID')\n",
    "\n",
    "print(late_payment.shape)"
   ]
  },
  {
   "cell_type": "markdown",
   "metadata": {
    "slideshow": {
     "slide_type": "slide"
    }
   },
   "source": [
    "<img src=\"./images/5.PNG\" alt=\"Drawing\" style=\"width: 400px;\"/>"
   ]
  },
  {
   "cell_type": "markdown",
   "metadata": {
    "slideshow": {
     "slide_type": "slide"
    }
   },
   "source": [
    "### Department Stats"
   ]
  },
  {
   "cell_type": "code",
   "execution_count": 102,
   "metadata": {
    "slideshow": {
     "slide_type": "-"
    }
   },
   "outputs": [
    {
     "name": "stdout",
     "output_type": "stream",
     "text": [
      " 6b : 7470\n",
      "-----------\n",
      " 4e : 9064\n",
      "-----------\n",
      " e7 : 4411\n",
      "-----------\n",
      " d4 : 5680\n"
     ]
    }
   ],
   "source": [
    "# our filter, since this is unique, we can extract the case value ( how many cases there are )\n",
    "is_late =  late_payment['(case) department']=='6b'\n",
    "print(\" 6b :\", len(late_payment[is_late]))\n",
    "print(\"-----------\")\n",
    "is_late =  late_payment['(case) department']=='4e'\n",
    "print(\" 4e :\", len(late_payment[is_late]))\n",
    "print(\"-----------\")\n",
    "is_late =  late_payment['(case) department']=='e7'\n",
    "print(\" e7 :\", len(late_payment[is_late]))\n",
    "print(\"-----------\")\n",
    "is_late =  late_payment['(case) department']=='d4'\n",
    "print(\" d4 :\", len(late_payment[is_late]))\n"
   ]
  },
  {
   "cell_type": "markdown",
   "metadata": {
    "slideshow": {
     "slide_type": "slide"
    }
   },
   "source": [
    "Let's see the difference in years"
   ]
  },
  {
   "cell_type": "code",
   "execution_count": 120,
   "metadata": {},
   "outputs": [],
   "source": [
    "# we drop the duplicates based on their IDS\n",
    "data = data.drop_duplicates(subset='Case ID')\n"
   ]
  },
  {
   "cell_type": "code",
   "execution_count": 121,
   "metadata": {},
   "outputs": [
    {
     "name": "stdout",
     "output_type": "stream",
     "text": [
      "Late cases in 2015\n",
      "14668  out of total  14750\n",
      "------------\n",
      "Late cases in 2016\n",
      "10078  out of total  14552\n",
      "------------\n",
      "Late cases in 2017\n",
      "1879  out of total  14507\n"
     ]
    }
   ],
   "source": [
    "is_late =  late_payment['(case) year']==2015\n",
    "print(\"Late cases in 2015\")\n",
    "print(len(late_payment[is_late]) , \" out of total \" , len(data[data['(case) year']==2015])) \n",
    "print(\"------------\")\n",
    "is_late =  late_payment['(case) year']==2016\n",
    "print(\"Late cases in 2016\")\n",
    "print(len(late_payment[is_late]) , \" out of total \" , len(data[data['(case) year']==2016])) \n",
    "print(\"------------\")\n",
    "is_late =  late_payment['(case) year']==2017\n",
    "print(\"Late cases in 2017\")\n",
    "print(len(late_payment[is_late]) , \" out of total \" , len(data[data['(case) year']==2017])) "
   ]
  },
  {
   "cell_type": "code",
   "execution_count": 118,
   "metadata": {
    "slideshow": {
     "slide_type": "skip"
    }
   },
   "outputs": [
    {
     "name": "stdout",
     "output_type": "stream",
     "text": [
      "4e : 4575  late cases out of all cases in 2015\n",
      "4e : 4485  late cases out of all cases in 2016\n",
      "4e : 4  late cases out of all cases in 2017\n",
      "----------------\n",
      "6b : 3770  late cases out of all cases in 2015\n",
      "6b : 3698  late cases out of all cases in 2016\n",
      "6b : 2  late cases out of all cases in 2017\n",
      "----------------\n",
      "d4 : 1914  late cases out of all cases in 2015\n",
      "d4 : 1893  late cases out of all cases in 2016\n",
      "d4 : 1873  late cases out of all cases in 2017\n",
      "----------------\n",
      "e7 : 4409  late cases out of all cases in 2015\n",
      "e7 : 2  late cases out of all cases in 2016\n",
      "e7 : 0  late cases out of all cases in 2017\n"
     ]
    }
   ],
   "source": [
    "is_year =  late_payment['(case) year']==2015\n",
    "year = late_payment[is_year]\n",
    "\n",
    "is_dep =  year['(case) department']=='4e'\n",
    "he = year[is_dep]\n",
    "\n",
    "print(\"4e :\", len(he), \" late cases out of all cases in 2015\")\n",
    "\n",
    "\n",
    "is_year =  late_payment['(case) year']==2016\n",
    "year = late_payment[is_year]\n",
    "\n",
    "is_dep =  year['(case) department']=='4e'\n",
    "he = year[is_dep]\n",
    "\n",
    "print(\"4e :\", len(he), \" late cases out of all cases in 2016\")\n",
    "\n",
    "is_year =  late_payment['(case) year']==2017\n",
    "year = late_payment[is_year]\n",
    "\n",
    "is_dep =  year['(case) department']=='4e'\n",
    "he = year[is_dep]\n",
    "\n",
    "print(\"4e :\", len(he), \" late cases out of all cases in 2017\")\n",
    "\n",
    "print(\"----------------\")\n",
    "\n",
    "is_year =  late_payment['(case) year']==2015\n",
    "year = late_payment[is_year]\n",
    "\n",
    "is_dep =  year['(case) department']=='6b'\n",
    "he = year[is_dep]\n",
    "\n",
    "print(\"6b :\", len(he), \" late cases out of all cases in 2015\")\n",
    "\n",
    "\n",
    "is_year =  late_payment['(case) year']==2016\n",
    "year = late_payment[is_year]\n",
    "\n",
    "is_dep =  year['(case) department']=='6b'\n",
    "he = year[is_dep]\n",
    "\n",
    "print(\"6b :\", len(he), \" late cases out of all cases in 2016\")\n",
    "\n",
    "is_year =  late_payment['(case) year']==2017\n",
    "year = late_payment[is_year]\n",
    "\n",
    "is_dep =  year['(case) department']=='6b'\n",
    "he = year[is_dep]\n",
    "\n",
    "print(\"6b :\", len(he), \" late cases out of all cases in 2017\")\n",
    "\n",
    "print(\"----------------\")\n",
    "\n",
    "is_year =  late_payment['(case) year']==2015\n",
    "year = late_payment[is_year]\n",
    "\n",
    "\n",
    "is_dep =  year['(case) department']=='d4'\n",
    "he = year[is_dep]\n",
    "\n",
    "print(\"d4 :\", len(he), \" late cases out of all cases in 2015\")\n",
    "\n",
    "\n",
    "is_year =  late_payment['(case) year']==2016\n",
    "year = late_payment[is_year]\n",
    "\n",
    "is_dep =  year['(case) department']=='d4'\n",
    "he = year[is_dep]\n",
    "\n",
    "print(\"d4 :\", len(he), \" late cases out of all cases in 2016\")\n",
    "\n",
    "is_year =  late_payment['(case) year']==2017\n",
    "year = late_payment[is_year]\n",
    "\n",
    "is_dep =  year['(case) department']=='d4'\n",
    "he = year[is_dep]\n",
    "\n",
    "print(\"d4 :\", len(he), \" late cases out of all cases in 2017\")\n",
    "\n",
    "print(\"----------------\")\n",
    "\n",
    "is_year =  late_payment['(case) year']==2015\n",
    "year = late_payment[is_year]\n",
    "\n",
    "is_dep =  year['(case) department']=='e7'\n",
    "he = year[is_dep]\n",
    "\n",
    "\n",
    "print(\"e7 :\", len(he), \" late cases out of all cases in 2015\")\n",
    "\n",
    "\n",
    "is_year =  late_payment['(case) year']==2016\n",
    "year = late_payment[is_year]\n",
    "\n",
    "is_dep =  year['(case) department']=='e7'\n",
    "he = year[is_dep]\n",
    "\n",
    "print(\"e7 :\", len(he), \" late cases out of all cases in 2016\")\n",
    "\n",
    "is_year =  late_payment['(case) year']==2017\n",
    "year = late_payment[is_year]\n",
    "\n",
    "is_dep =  year['(case) department']=='e7'\n",
    "he = year[is_dep]\n",
    "\n",
    "print(\"e7 :\", len(he), \" late cases out of all cases in 2017\")\n",
    "\n",
    "\n",
    "\n"
   ]
  },
  {
   "cell_type": "code",
   "execution_count": null,
   "metadata": {
    "slideshow": {
     "slide_type": "slide"
    }
   },
   "outputs": [],
   "source": [
    "4e : 4575  late cases out of all cases in 2015\n",
    "4e : 4485  late cases out of all cases in 2016\n",
    "4e : 4  late cases out of all cases in 2017\n",
    "----------------\n",
    "6b : 3770  late cases out of all cases in 2015\n",
    "6b : 3698  late cases out of all cases in 2016\n",
    "6b : 2  late cases out of all cases in 2017\n",
    "----------------\n",
    "d4 : 1914  late cases out of all cases in 2015\n",
    "d4 : 1893  late cases out of all cases in 2016\n",
    "d4 : 1873  late cases out of all cases in 2017\n",
    "----------------\n",
    "e7 : 4409  late cases out of all cases in 2015\n",
    "e7 : 2  late cases out of all cases in 2016\n",
    "e7 : 0  late cases out of all cases in 2017"
   ]
  },
  {
   "cell_type": "markdown",
   "metadata": {
    "slideshow": {
     "slide_type": "slide"
    }
   },
   "source": [
    "<img src=\"./images/3.PNG\" alt=\"Drawing\" style=\"width: 500px;\"/>"
   ]
  },
  {
   "cell_type": "markdown",
   "metadata": {
    "slideshow": {
     "slide_type": "slide"
    }
   },
   "source": [
    "<img src=\"./images/4.PNG\" alt=\"Drawing\" style=\"width: 500px;\"/>"
   ]
  },
  {
   "cell_type": "code",
   "execution_count": 187,
   "metadata": {
    "slideshow": {
     "slide_type": "slide"
    }
   },
   "outputs": [
    {
     "data": {
      "text/plain": [
       "(0, 160000)"
      ]
     },
     "execution_count": 187,
     "metadata": {},
     "output_type": "execute_result"
    },
    {
     "data": {
      "text/plain": [
       "<Figure size 432x288 with 0 Axes>"
      ]
     },
     "metadata": {},
     "output_type": "display_data"
    },
    {
     "data": {
      "image/png": "[encoded data removed]",
      "text/plain": [
       "<Figure size 432x288 with 1 Axes>"
      ]
     },
     "metadata": {
      "needs_background": "light"
     },
     "output_type": "display_data"
    }
   ],
   "source": [
    "%matplotlib inline\n",
    "import matplotlib.pyplot as plt\n",
    "\n",
    "\n",
    "fig=plt.figure(1)\n",
    "late_payment.plot(kind=\"scatter\", x=\"(case) amount_applied0\", y=\"(case) payment_actual0\")\n",
    "axes = plt.gca()\n",
    "axes.set_ylim([0,160000])\n",
    "axes.set_xlim([0,160000])"
   ]
  },
  {
   "cell_type": "markdown",
   "metadata": {
    "slideshow": {
     "slide_type": "slide"
    }
   },
   "source": [
    "### Undesired outcome 2\n",
    "The case needs to be reopened, either by the department (subprocess “Change”) or due to a legal objection by the applicant (subprocess “Objection”). This may result in additional payments or reimbursements (“payment_actual{x}“ > 0, where x ≥ 1 refers to the xth payment after the initial one)"
   ]
  },
  {
   "cell_type": "code",
   "execution_count": 200,
   "metadata": {
    "scrolled": false,
    "slideshow": {
     "slide_type": "slide"
    }
   },
   "outputs": [
    {
     "name": "stdout",
     "output_type": "stream",
     "text": [
      "Late cases in 2015\n",
      "2388  out of total  14750\n",
      "------------\n",
      "Late cases in 2016\n",
      "1563  out of total  14552\n",
      "------------\n",
      "Late cases in 2017\n",
      "0  out of total  14507\n",
      "------------\n",
      "Re-opened cases: Changed: 3951  Objections:  843\n"
     ]
    }
   ],
   "source": [
    "data = load_data()\n",
    "_changed = data[data['subprocess']=='Change']\n",
    "_objection = data[data['subprocess']=='Objection']\n",
    "_changed = _changed.drop_duplicates(subset='Case ID')\n",
    "_objection = _objection.drop_duplicates(subset='Case ID')\n",
    "data = data.drop_duplicates(subset='Case ID')\n",
    "is_late =  _changed['(case) year']==2015\n",
    "print(\"Late cases in 2015\")\n",
    "print(len(_changed[is_late]) , \" out of total \" , len(data[data['(case) year']==2015])) \n",
    "print(\"------------\")\n",
    "is_late =  _changed['(case) year']==2016\n",
    "print(\"Late cases in 2016\")\n",
    "print(len(_changed[is_late]) , \" out of total \" , len(data[data['(case) year']==2016])) \n",
    "print(\"------------\")\n",
    "is_late =  _changed['(case) year']==2017\n",
    "print(\"Late cases in 2017\")\n",
    "print(len(_changed[is_late]) , \" out of total \" , len(data[data['(case) year']==2017])) \n",
    "print(\"------------\") \n",
    "print(\"Re-opened cases: Changed:\" ,len( _changed), \" Objections: \", len(_objection))"
   ]
  },
  {
   "cell_type": "markdown",
   "metadata": {
    "slideshow": {
     "slide_type": "slide"
    }
   },
   "source": [
    "Let's now look at the statistics for re-opened cases.\n",
    "The median duration for re-opened cases is 14 days the mean duration for reopened cases is 61.6 days. These reimbursements and payments happen always\n",
    "after there is a mistake in the calculation, so the correct amount to be calculated\n",
    "takes a bit.\n",
    "e7 : 32.01%, 4e : 25.78%, 6b : 23.58%, d4 : 18.64%"
   ]
  },
  {
   "cell_type": "markdown",
   "metadata": {},
   "source": [
    "<img src=\"./images/6.PNG\" alt=\"Drawing\" style=\"width: 500px;\"/>"
   ]
  },
  {
   "cell_type": "markdown",
   "metadata": {},
   "source": [
    "The median duration 14.8 weeks for late cases ( not timely )\n",
    "the mean duration 17.1 weeks for late cases ( not timely )\n",
    "\n",
    "The median duration for re-opened cases is 14 days\n",
    "the mean duration for re-opened cases is 61.6 days"
   ]
  },
  {
   "cell_type": "markdown",
   "metadata": {
    "slideshow": {
     "slide_type": "slide"
    }
   },
   "source": [
    "We would like to detect such cases as early as possible. Ideally, this should happen before a decision is made for this case (first occurrence of “Payment application+application+decide”). You may use data from previous years to make predictions for the current year."
   ]
  },
  {
   "cell_type": "markdown",
   "metadata": {
    "slideshow": {
     "slide_type": "slide"
    }
   },
   "source": [
    "### Machine Learning\n",
    "<img src=\"./images/machine learning in this context.PNG\" alt=\"Drawing\" style=\"width: 700px;\"/>\n",
    "\n"
   ]
  },
  {
   "cell_type": "markdown",
   "metadata": {
    "slideshow": {
     "slide_type": "slide"
    }
   },
   "source": [
    "In our context, we would first need to add a label to each case, specifying its\n",
    "timeliness. If the payment is late, timeliness would be set to false else it will be\n",
    "set to true. In order to achieve this we wrote a script that is a slight modification\n",
    "to our previous script"
   ]
  },
  {
   "cell_type": "code",
   "execution_count": null,
   "metadata": {},
   "outputs": [],
   "source": [
    "for case in cases:\n",
    "        if case[0][0] in truncated_notTimely:\n",
    "            for x in range(len(case)):\n",
    "                case[x][17] = 'false'\n",
    "                tastyData.writerow(case[x])\n",
    "                # add to another csv file\n",
    "        else:\n",
    "            for x in range(len(case)):\n",
    "                case[x][17] = 'true'\n",
    "                tastyData.writerow(case[x])"
   ]
  },
  {
   "cell_type": "markdown",
   "metadata": {
    "slideshow": {
     "slide_type": "slide"
    }
   },
   "source": [
    "<img src=\"Pearson R.PNG\" alt=\"Drawing\" style=\"width: 300px;\"/>"
   ]
  },
  {
   "cell_type": "code",
   "execution_count": 231,
   "metadata": {
    "slideshow": {
     "slide_type": "slide"
    }
   },
   "outputs": [
    {
     "name": "stdout",
     "output_type": "stream",
     "text": [
      "(case) amount_applied0    1.000000\n",
      "(case) amount_applied3    0.999999\n",
      "(case) payment_actual0    0.999795\n",
      "(case) amount_applied2    0.998180\n",
      "(case) amount_applied1    0.977176\n",
      "(case) area               0.822678\n",
      "(case) number_parcels     0.612483\n",
      "(case) penalty_amount3    0.507312\n",
      "Variant index             0.170253\n",
      "(case) penalty_amount0    0.167370\n",
      "Name: (case) amount_applied0, dtype: float64\n",
      "(case) penalty_AUVP      -0.034567\n",
      "(case) penalty_B3        -0.036725\n",
      "(case) selected_risk     -0.045017\n",
      "(case) payment_actual3   -0.069720\n",
      "(case) small farmer      -0.096942\n",
      "(case) basic payment           NaN\n",
      "(case) greening                NaN\n",
      "(case) program-id              NaN\n",
      "eventid                        NaN\n",
      "success                        NaN\n",
      "Name: (case) amount_applied0, dtype: float64\n"
     ]
    }
   ],
   "source": [
    "corr_matrix = data.corr()\n",
    "print(corr_matrix[\"(case) amount_applied0\"].sort_values(ascending=False).head(10))\n",
    "print(corr_matrix[\"(case) amount_applied0\"].sort_values(ascending=False).tail(10))"
   ]
  },
  {
   "cell_type": "code",
   "execution_count": 238,
   "metadata": {
    "slideshow": {
     "slide_type": "slide"
    }
   },
   "outputs": [
    {
     "name": "stdout",
     "output_type": "stream",
     "text": [
      "(case) cross_compliance    1.000000\n",
      "(case) penalty_amount2     0.686159\n",
      "(case) penalty_amount1     0.583567\n",
      "(case) penalty_CC          0.554836\n",
      "(case) penalty_amount0     0.535910\n",
      "(case) penalty_V5          0.272892\n",
      "Variant index              0.086382\n",
      "(case) number_parcels      0.070036\n",
      "(case) area                0.046500\n",
      "(case) rejected            0.042140\n",
      "Name: (case) cross_compliance, dtype: float64\n",
      "(case) amount_applied2   -0.040083\n",
      "(case) payment_actual2   -0.348675\n",
      "(case) amount_applied3         NaN\n",
      "(case) basic payment           NaN\n",
      "(case) greening                NaN\n",
      "(case) payment_actual3         NaN\n",
      "(case) penalty_amount3         NaN\n",
      "(case) program-id              NaN\n",
      "eventid                        NaN\n",
      "success                        NaN\n",
      "Name: (case) cross_compliance, dtype: float64\n"
     ]
    }
   ],
   "source": [
    "# A penalty term due to violation of cross-compliance rules.\n",
    "corr_matrix = data.corr()\n",
    "print(corr_matrix[\"(case) cross_compliance\"].sort_values(ascending=False).head(10))\n",
    "print(corr_matrix[\"(case) cross_compliance\"].sort_values(ascending=False).tail(10))"
   ]
  },
  {
   "cell_type": "code",
   "execution_count": 228,
   "metadata": {
    "slideshow": {
     "slide_type": "slide"
    }
   },
   "outputs": [
    {
     "name": "stdout",
     "output_type": "stream",
     "text": [
      "(case) area               1.000000\n",
      "(case) number_parcels     0.856593\n",
      "(case) amount_applied3    0.846370\n",
      "(case) amount_applied0    0.822678\n",
      "(case) payment_actual0    0.821515\n",
      "(case) amount_applied2    0.821273\n",
      "(case) amount_applied1    0.819556\n",
      "(case) penalty_amount3    0.409337\n",
      "(case) payment_actual3    0.280444\n",
      "(case) penalty_B2         0.266639\n",
      "Name: (case) area, dtype: float64\n",
      "(case) rejected        -0.058435\n",
      "(case) penalty_AUVP    -0.059774\n",
      "(case) penalty_B3      -0.063103\n",
      "(case) selected_risk   -0.083882\n",
      "(case) small farmer    -0.171297\n",
      "(case) basic payment         NaN\n",
      "(case) greening              NaN\n",
      "(case) program-id            NaN\n",
      "eventid                      NaN\n",
      "success                      NaN\n",
      "Name: (case) area, dtype: float64\n"
     ]
    }
   ],
   "source": [
    "corr_matrix = data.corr()\n",
    "print(corr_matrix[\"(case) area\"].sort_values(ascending=False).head(10))\n",
    "print(corr_matrix[\"(case) area\"].sort_values(ascending=False).tail(10))"
   ]
  },
  {
   "cell_type": "code",
   "execution_count": 243,
   "metadata": {
    "slideshow": {
     "slide_type": "slide"
    }
   },
   "outputs": [
    {
     "data": {
      "text/plain": [
       "array([[<matplotlib.axes._subplots.AxesSubplot object at 0x00000272814734A8>,\n",
       "        <matplotlib.axes._subplots.AxesSubplot object at 0x00000272817546D8>],\n",
       "       [<matplotlib.axes._subplots.AxesSubplot object at 0x0000027281513940>,\n",
       "        <matplotlib.axes._subplots.AxesSubplot object at 0x000002728150BE80>]],\n",
       "      dtype=object)"
      ]
     },
     "execution_count": 243,
     "metadata": {},
     "output_type": "execute_result"
    },
    {
     "data": {
      "image/png": "[encoded data removed]",
      "text/plain": [
       "<Figure size 720x432 with 4 Axes>"
      ]
     },
     "metadata": {
      "needs_background": "light"
     },
     "output_type": "display_data"
    }
   ],
   "source": [
    "from pandas.plotting import scatter_matrix\n",
    "\n",
    "attributes = [\"(case) department\", \"(case) area\", \"(case) amount_applied0\"]\n",
    "scatter_matrix(data[attributes], figsize = (10,6))"
   ]
  },
  {
   "cell_type": "markdown",
   "metadata": {
    "slideshow": {
     "slide_type": "slide"
    }
   },
   "source": [
    "Now that we have a generated csv file containing all the attributes that we need\n",
    "we can proceed to the normalization of the data. The data that the model will\n",
    "use to be trained with is very important"
   ]
  },
  {
   "cell_type": "markdown",
   "metadata": {
    "slideshow": {
     "slide_type": "slide"
    }
   },
   "source": [
    "<img src=\"./images/data cleansing.PNG\" alt=\"Drawing\" style=\"width: 700px;\"/>"
   ]
  },
  {
   "cell_type": "markdown",
   "metadata": {
    "slideshow": {
     "slide_type": "slide"
    }
   },
   "source": [
    "<img src=\"./images/results_of_prediction.PNG\" alt=\"Drawing\" style=\"width: 700px;\"/>"
   ]
  },
  {
   "cell_type": "markdown",
   "metadata": {},
   "source": [
    "<img src=\"./images/Random Forest.PNG\" alt=\"Drawing\" style=\"width: 700px;\"/>"
   ]
  },
  {
   "cell_type": "markdown",
   "metadata": {},
   "source": [
    "<img src=\"./images/Decision Tree.PNG\" alt=\"Drawing\" style=\"width: 700px;\"/>"
   ]
  }
 ],
 "metadata": {
  "celltoolbar": "Slideshow",
  "kernelspec": {
   "display_name": "Python 3",
   "language": "python",
   "name": "python3"
  },
  "language_info": {
   "codemirror_mode": {
    "name": "ipython",
    "version": 3
   },
   "file_extension": ".py",
   "mimetype": "text/x-python",
   "name": "python",
   "nbconvert_exporter": "python",
   "pygments_lexer": "ipython3",
   "version": "3.6.7"
  }
 },
 "nbformat": 4,
 "nbformat_minor": 2
}
